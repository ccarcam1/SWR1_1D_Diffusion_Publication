{
 "cells": [
  {
   "cell_type": "markdown",
   "metadata": {},
   "source": [
    "## Array Save from Kymograph H5 Files"
   ]
  },
  {
   "cell_type": "code",
   "execution_count": 1,
   "metadata": {},
   "outputs": [
    {
     "name": "stdout",
     "output_type": "stream",
     "text": [
      "found 0 files in folder\n"
     ]
    }
   ],
   "source": [
    "import numpy as np\n",
    "import matplotlib.pyplot as plt\n",
    "from lumicks import pylake\n",
    "import glob\n",
    "import scipy.io as sio\n",
    "import os\n",
    "\n",
    "directory = r'C:\\Users\\carca\\OneDrive - Johns Hopkins University\\Ha_CCarcamo\\03 My Publications\\01_SWR1_sliding\\SWR1_1D_Diffusion_Publication\\Raw Data Processing\\example_trace\\SWR1 diffusion no ATP' + '/'\n",
    "lenis = len(directory)\n",
    "try:\n",
    "    os.mkdir(directory+'linescan_time_mat')\n",
    "    os.mkdir(directory+'kymo_mat_green')\n",
    "    os.mkdir(directory+'kymo_mat_red')\n",
    "    \n",
    "except FileExistsError:        \n",
    "# directory already exists\n",
    "\n",
    "    pass\n",
    "os.chdir(directory)\n",
    "files = glob.glob(directory + '*Kymograph*.h5')\n",
    "print(\"found {} files in folder\".format(len(files)))\n",
    "for file_name in files:\n",
    "    print(file_name) # , file_name[lenis:-3]\n",
    "    file = pylake.File(file_name)\n",
    "    key = list(file.kymos.keys())[0]\n",
    "    kymo = file.kymos[key]\n",
    "    time = kymo.timestamps\n",
    "    t1 = time[0]; c1 = (t1 - t1[0]) * 1e-9 + 1; start = c1[0]; second =c1[1]; end = c1[-1]\n",
    "    sio.savemat(f\"{directory}/kymo_mat_green/greenkymo_{file_name[lenis:-3]}.mat\",{'obj_arr':file.kymos[key].green_image})\n",
    "    sio.savemat(f\"{directory}/kymo_mat_red/redkymo_{file_name[lenis:-3]}.mat\",{'obj_arr':file.kymos[key].red_image})\n",
    "    sio.savemat(f\"{directory}/linescan_time_mat/greenkymo_{file_name[lenis:-3]}.mat\", {'linescan_time_':np.around((second-start)*1000, decimals = 2)})\n"
   ]
  }
 ],
 "metadata": {
  "kernelspec": {
   "display_name": "Python 3 (ipykernel)",
   "language": "python",
   "name": "python3"
  },
  "language_info": {
   "codemirror_mode": {
    "name": "ipython",
    "version": 3
   },
   "file_extension": ".py",
   "mimetype": "text/x-python",
   "name": "python",
   "nbconvert_exporter": "python",
   "pygments_lexer": "ipython3",
   "version": "3.9.7"
  }
 },
 "nbformat": 4,
 "nbformat_minor": 2
}
